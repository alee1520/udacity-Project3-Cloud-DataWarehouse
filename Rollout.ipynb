{
 "cells": [
  {
   "cell_type": "code",
   "execution_count": null,
   "metadata": {},
   "outputs": [],
   "source": [
    "%load_ext sql"
   ]
  },
  {
   "cell_type": "code",
   "execution_count": null,
   "metadata": {},
   "outputs": [],
   "source": [
    "%run create_tables.py"
   ]
  },
  {
   "cell_type": "code",
   "execution_count": null,
   "metadata": {},
   "outputs": [],
   "source": [
    "%run etl.py"
   ]
  },
  {
   "cell_type": "code",
   "execution_count": null,
   "metadata": {},
   "outputs": [],
   "source": [
    "\"\"\"\n",
    "Create a connection to the sparkifydw\n",
    "\"\"\"\n",
    "import psycopg2\n",
    "config = configparser.ConfigParser()\n",
    "config.read('dwh.cfg')\n",
    "\n",
    "DWH_DB= config.get(\"CLUSTER\",\"DB_NAME\")\n",
    "DWH_DB_USER= config.get(\"CLUSTER\",\"DB_USER\")\n",
    "DWH_DB_PASSWORD= config.get(\"CLUSTER\",\"DB_PASSWORD\")\n",
    "DWH_PORT = config.get(\"CLUSTER\",\"DB_PORT\")\n",
    "DWH_ENDPOINT = config.get(\"CLUSTER\",\"HOST\")\n",
    "\n",
    "conn=\"postgresql://{}:{}@{}:{}/{}\".format(DWH_DB_USER, DWH_DB_PASSWORD, DWH_ENDPOINT, DWH_PORT,DWH_DB);\n",
    "\n",
    "%sql $conn\n",
    "\n"
   ]
  },
  {
   "cell_type": "code",
   "execution_count": null,
   "metadata": {},
   "outputs": [],
   "source": [
    "\"\"\"Validation Check - Get's count of all of the tables\"\"\""
   ]
  },
  {
   "cell_type": "code",
   "execution_count": null,
   "metadata": {},
   "outputs": [],
   "source": [
    "%%sql\n",
    "\n",
    "select count(*), 'users' as tablename from sparkifydw.users\n",
    "union\n",
    "select count(*), 'artists' from sparkifydw.artists\n",
    "union\n",
    "select count(*), 'songs' from sparkifydw.songs\n",
    "union\n",
    "select count(*), 'time' from sparkifydw.time\n",
    "union\n",
    "select count(*), 'songplays' from sparkifydw.songplays\n",
    "union\n",
    "select count(*), 'staging_events' from sparkifydw.staging_events\n",
    "union\n",
    "select count(*), 'staging_songs' from sparkifydw.staging_songs;\n"
   ]
  },
  {
   "cell_type": "code",
   "execution_count": null,
   "metadata": {},
   "outputs": [],
   "source": [
    "\"\"\"\n",
    "#### Sample DashBoards Part 1 ####\n",
    "\n",
    "Load sample queries needed to create the sample dashboards\n",
    "The database credentials are load from dwh.cfg congfile\n",
    "The query are populated in different variables and loaded into different dataframes\n",
    "\"\"\"\n",
    "\n",
    "import configparser\n",
    "import psycopg2\n",
    "import matplotlib.pyplot as plt\n",
    "import pandas as pd\n",
    "\n",
    "config = configparser.ConfigParser()\n",
    "config.read('dwh.cfg')\n",
    "\n",
    "DWH_DB= config.get(\"CLUSTER\",\"DB_NAME\")\n",
    "DWH_DB_USER= config.get(\"CLUSTER\",\"DB_USER\")\n",
    "DWH_DB_PASSWORD= config.get(\"CLUSTER\",\"DB_PASSWORD\")\n",
    "DWH_PORT = config.get(\"CLUSTER\",\"DB_PORT\")\n",
    "DWH_ENDPOINT = config.get(\"CLUSTER\",\"HOST\")\n",
    "\n",
    "conn=\"postgresql://{}:{}@{}:{}/{}\".format(DWH_DB_USER, DWH_DB_PASSWORD, DWH_ENDPOINT, DWH_PORT,DWH_DB)\n",
    "qryTotalSongs=\"\"\"\n",
    "select * from (\n",
    "select count(*) total, title from sparkifydw.songplays sp \n",
    "    inner join sparkifydw.songs s\n",
    "        on sp.song_id = s.song_id\n",
    "group by  title) x\n",
    "where total >= 5 \n",
    "order by total\n",
    "\"\"\"\n",
    "\n",
    "qryTotalUsersByGender =\"\"\"\n",
    "select count(*) total, gender from sparkifydw.users\n",
    "group by gender;\n",
    "\"\"\"\n",
    "\n",
    "qryTotalByLevel =\"\"\"\n",
    "select count(*) total, level from sparkifydw.users\n",
    "group by level\n",
    "\"\"\"\n",
    "\n",
    "qryLevelByGender=\"\"\"\n",
    "select count(*) total, decode(gender,'M','Male','F','Female') || ' - ' ||  level genderbylevel from sparkifydw.users\n",
    "group by gender, level\n",
    "order by 1;\n",
    "\"\"\"\n",
    "\n",
    "stats_song = pd.read_sql_query(qryTotalSongs,conn)\n",
    "stats_userbygender =  pd.read_sql_query(qryTotalUsersByGender,conn)\n",
    "stats_totalbylevel =  pd.read_sql_query(qryTotalByLevel,conn)\n",
    "stats_levelbygender = pd.read_sql_query(qryLevelByGender,conn)"
   ]
  },
  {
   "cell_type": "code",
   "execution_count": null,
   "metadata": {},
   "outputs": [],
   "source": [
    "\"\"\"\n",
    "#### Sample DashBoards Part 2 ####\n",
    "Part 2 builds the dashboards based on the queries of Part 1\n",
    "\"\"\"\n",
    "\n",
    "# Most Song Played\n",
    "\n",
    "plt.bar(stats_song.total, stats_song.title)\n",
    "plt.title('Most Song Played')\n",
    "plt.ylabel('Songs')\n",
    "plt.xlabel('Number Of Plays')\n",
    "plt.show()\n",
    "\n",
    "# Total Users by Gender\n",
    "plt.barh(stats_userbygender.gender, stats_userbygender.total)\n",
    "plt.title('Total Users by Gender')\n",
    "plt.ylabel('Gender')\n",
    "plt.xlabel('Total')\n",
    "plt.show()\n",
    "\n",
    "# Total by levels\n",
    "fig1, ax1 = plt.subplots()\n",
    "ax1.pie(stats_totalbylevel.total, labels=stats_totalbylevel.level, explode=None,  autopct='%1.1f%%',\n",
    "        shadow=True, startangle=90)\n",
    "ax1.axis('equal')\n",
    "plt.show()\n",
    "\n",
    "# Total level by Gender \n",
    "fig1, ax1 = plt.subplots()\n",
    "ax1.pie(stats_levelbygender.total, labels=stats_levelbygender.genderbylevel, explode=None,  autopct= '%1.1f%%',\n",
    "        shadow=True, startangle=90)\n",
    "ax1.axis('equal')\n",
    "plt.show()"
   ]
  },
  {
   "cell_type": "code",
   "execution_count": null,
   "metadata": {},
   "outputs": [],
   "source": []
  }
 ],
 "metadata": {
  "kernelspec": {
   "display_name": "Python 3",
   "language": "python",
   "name": "python3"
  },
  "language_info": {
   "codemirror_mode": {
    "name": "ipython",
    "version": 3
   },
   "file_extension": ".py",
   "mimetype": "text/x-python",
   "name": "python",
   "nbconvert_exporter": "python",
   "pygments_lexer": "ipython3",
   "version": "3.6.3"
  }
 },
 "nbformat": 4,
 "nbformat_minor": 2
}
